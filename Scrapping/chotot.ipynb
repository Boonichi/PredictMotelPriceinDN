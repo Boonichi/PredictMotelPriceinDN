{
 "cells": [
  {
   "cell_type": "code",
   "execution_count": 1,
   "metadata": {},
   "outputs": [],
   "source": [
    "#Import Libraries:\n",
    "import os\n",
    "from time import sleep\n",
    "import pandas as pd\n",
    "import numpy as np\n",
    "from bs4 import BeautifulSoup as bs\n",
    "import requests\n",
    "from selenium import webdriver\n",
    "from selenium.webdriver.common.keys import Keys\n",
    "from webdriver_manager.chrome import ChromeDriverManager\n",
    "from selenium.webdriver.common.by import By\n",
    "from selenium.webdriver.support.ui import WebDriverWait\n",
    "import pickle"
   ]
  },
  {
   "cell_type": "code",
   "execution_count": 2,
   "metadata": {},
   "outputs": [
    {
     "name": "stdout",
     "output_type": "stream",
     "text": [
      "\n"
     ]
    },
    {
     "name": "stderr",
     "output_type": "stream",
     "text": [
      "[WDM] - ====== WebDriver manager ======\n",
      "[WDM] - Current google-chrome version is 103.0.5060\n",
      "[WDM] - Get LATEST chromedriver version for 103.0.5060 google-chrome\n",
      "[WDM] - Driver [/Users/phanvanhung/.wdm/drivers/chromedriver/mac64_m1/103.0.5060.53/chromedriver] found in cache\n",
      "/var/folders/2r/vgdn5c2j5fb567xb2nm5_qfm0000gn/T/ipykernel_63155/1106099800.py:1: DeprecationWarning: executable_path has been deprecated, please pass in a Service object\n",
      "  drive = webdriver.Chrome(ChromeDriverManager().install())\n"
     ]
    }
   ],
   "source": [
    "drive = webdriver.Chrome(ChromeDriverManager().install())\n",
    "drive.maximize_window()\n",
    "wait = WebDriverWait(drive, 10)"
   ]
  },
  {
   "cell_type": "code",
   "execution_count": 3,
   "metadata": {},
   "outputs": [
    {
     "ename": "WebDriverException",
     "evalue": "Message: unknown error: cannot determine loading status\nfrom unknown error: unexpected command response\n  (Session info: chrome=103.0.5060.53)\nStacktrace:\n0   chromedriver                        0x00000001048bdd14 chromedriver + 3792148\n1   chromedriver                        0x0000000104854828 chromedriver + 3360808\n2   chromedriver                        0x00000001045550b8 chromedriver + 217272\n3   chromedriver                        0x0000000104544124 chromedriver + 147748\n4   chromedriver                        0x00000001045438f4 chromedriver + 145652\n5   chromedriver                        0x0000000104542f50 chromedriver + 143184\n6   chromedriver                        0x0000000104542058 chromedriver + 139352\n7   chromedriver                        0x00000001045424f8 chromedriver + 140536\n8   chromedriver                        0x000000010454e394 chromedriver + 189332\n9   chromedriver                        0x000000010455ba20 chromedriver + 244256\n10  chromedriver                        0x000000010454279c chromedriver + 141212\n11  chromedriver                        0x000000010455b69c chromedriver + 243356\n12  chromedriver                        0x00000001045add74 chromedriver + 580980\n13  chromedriver                        0x000000010457a318 chromedriver + 369432\n14  chromedriver                        0x00000001048931e8 chromedriver + 3617256\n15  chromedriver                        0x0000000104897678 chromedriver + 3634808\n16  chromedriver                        0x000000010489bc6c chromedriver + 3652716\n17  chromedriver                        0x0000000104898110 chromedriver + 3637520\n18  chromedriver                        0x00000001048767ac chromedriver + 3499948\n19  chromedriver                        0x00000001048afbf0 chromedriver + 3734512\n20  chromedriver                        0x00000001048afd54 chromedriver + 3734868\n21  chromedriver                        0x00000001048c4558 chromedriver + 3818840\n22  libsystem_pthread.dylib             0x00000001926a426c _pthread_start + 148\n23  libsystem_pthread.dylib             0x000000019269f08c thread_start + 8\n",
     "output_type": "error",
     "traceback": [
      "\u001b[0;31m---------------------------------------------------------------------------\u001b[0m",
      "\u001b[0;31mWebDriverException\u001b[0m                        Traceback (most recent call last)",
      "\u001b[0;32m/var/folders/2r/vgdn5c2j5fb567xb2nm5_qfm0000gn/T/ipykernel_63155/3908553968.py\u001b[0m in \u001b[0;36m<module>\u001b[0;34m\u001b[0m\n\u001b[1;32m     10\u001b[0m         \u001b[0mhouses\u001b[0m\u001b[0;34m[\u001b[0m\u001b[0mi\u001b[0m\u001b[0;34m]\u001b[0m \u001b[0;34m=\u001b[0m \u001b[0mhouses\u001b[0m\u001b[0;34m[\u001b[0m\u001b[0mi\u001b[0m\u001b[0;34m]\u001b[0m\u001b[0;34m.\u001b[0m\u001b[0mget_attribute\u001b[0m\u001b[0;34m(\u001b[0m\u001b[0;34m'href'\u001b[0m\u001b[0;34m)\u001b[0m\u001b[0;34m\u001b[0m\u001b[0;34m\u001b[0m\u001b[0m\n\u001b[1;32m     11\u001b[0m     \u001b[0;32mfor\u001b[0m \u001b[0mhouse\u001b[0m \u001b[0;32min\u001b[0m \u001b[0mhouses\u001b[0m\u001b[0;34m:\u001b[0m\u001b[0;34m\u001b[0m\u001b[0;34m\u001b[0m\u001b[0m\n\u001b[0;32m---> 12\u001b[0;31m         \u001b[0mdrive\u001b[0m\u001b[0;34m.\u001b[0m\u001b[0mget\u001b[0m\u001b[0;34m(\u001b[0m\u001b[0mhouse\u001b[0m\u001b[0;34m)\u001b[0m\u001b[0;34m\u001b[0m\u001b[0;34m\u001b[0m\u001b[0m\n\u001b[0m\u001b[1;32m     13\u001b[0m         \u001b[0;32mtry\u001b[0m\u001b[0;34m:\u001b[0m\u001b[0;34m\u001b[0m\u001b[0;34m\u001b[0m\u001b[0m\n\u001b[1;32m     14\u001b[0m             \u001b[0mhouse_location\u001b[0m\u001b[0;34m=\u001b[0m \u001b[0mdrive\u001b[0m\u001b[0;34m.\u001b[0m\u001b[0mfind_element\u001b[0m\u001b[0;34m(\u001b[0m\u001b[0mBy\u001b[0m\u001b[0;34m.\u001b[0m\u001b[0mXPATH\u001b[0m\u001b[0;34m,\u001b[0m \u001b[0mvalue\u001b[0m \u001b[0;34m=\u001b[0m \u001b[0;34m'//span[@class=\"fz13\"]'\u001b[0m\u001b[0;34m)\u001b[0m\u001b[0;34m.\u001b[0m\u001b[0mtext\u001b[0m\u001b[0;34m.\u001b[0m\u001b[0mreplace\u001b[0m\u001b[0;34m(\u001b[0m\u001b[0;34m'Xem bản đồ'\u001b[0m\u001b[0;34m,\u001b[0m\u001b[0;34m''\u001b[0m\u001b[0;34m)\u001b[0m\u001b[0;34m\u001b[0m\u001b[0;34m\u001b[0m\u001b[0m\n",
      "\u001b[0;32m~/miniforge3/envs/tfvenv/lib/python3.8/site-packages/selenium/webdriver/remote/webdriver.py\u001b[0m in \u001b[0;36mget\u001b[0;34m(self, url)\u001b[0m\n\u001b[1;32m    440\u001b[0m         \u001b[0mLoads\u001b[0m \u001b[0ma\u001b[0m \u001b[0mweb\u001b[0m \u001b[0mpage\u001b[0m \u001b[0;32min\u001b[0m \u001b[0mthe\u001b[0m \u001b[0mcurrent\u001b[0m \u001b[0mbrowser\u001b[0m \u001b[0msession\u001b[0m\u001b[0;34m.\u001b[0m\u001b[0;34m\u001b[0m\u001b[0;34m\u001b[0m\u001b[0m\n\u001b[1;32m    441\u001b[0m         \"\"\"\n\u001b[0;32m--> 442\u001b[0;31m         \u001b[0mself\u001b[0m\u001b[0;34m.\u001b[0m\u001b[0mexecute\u001b[0m\u001b[0;34m(\u001b[0m\u001b[0mCommand\u001b[0m\u001b[0;34m.\u001b[0m\u001b[0mGET\u001b[0m\u001b[0;34m,\u001b[0m \u001b[0;34m{\u001b[0m\u001b[0;34m'url'\u001b[0m\u001b[0;34m:\u001b[0m \u001b[0murl\u001b[0m\u001b[0;34m}\u001b[0m\u001b[0;34m)\u001b[0m\u001b[0;34m\u001b[0m\u001b[0;34m\u001b[0m\u001b[0m\n\u001b[0m\u001b[1;32m    443\u001b[0m \u001b[0;34m\u001b[0m\u001b[0m\n\u001b[1;32m    444\u001b[0m     \u001b[0;34m@\u001b[0m\u001b[0mproperty\u001b[0m\u001b[0;34m\u001b[0m\u001b[0;34m\u001b[0m\u001b[0m\n",
      "\u001b[0;32m~/miniforge3/envs/tfvenv/lib/python3.8/site-packages/selenium/webdriver/remote/webdriver.py\u001b[0m in \u001b[0;36mexecute\u001b[0;34m(self, driver_command, params)\u001b[0m\n\u001b[1;32m    428\u001b[0m         \u001b[0mresponse\u001b[0m \u001b[0;34m=\u001b[0m \u001b[0mself\u001b[0m\u001b[0;34m.\u001b[0m\u001b[0mcommand_executor\u001b[0m\u001b[0;34m.\u001b[0m\u001b[0mexecute\u001b[0m\u001b[0;34m(\u001b[0m\u001b[0mdriver_command\u001b[0m\u001b[0;34m,\u001b[0m \u001b[0mparams\u001b[0m\u001b[0;34m)\u001b[0m\u001b[0;34m\u001b[0m\u001b[0;34m\u001b[0m\u001b[0m\n\u001b[1;32m    429\u001b[0m         \u001b[0;32mif\u001b[0m \u001b[0mresponse\u001b[0m\u001b[0;34m:\u001b[0m\u001b[0;34m\u001b[0m\u001b[0;34m\u001b[0m\u001b[0m\n\u001b[0;32m--> 430\u001b[0;31m             \u001b[0mself\u001b[0m\u001b[0;34m.\u001b[0m\u001b[0merror_handler\u001b[0m\u001b[0;34m.\u001b[0m\u001b[0mcheck_response\u001b[0m\u001b[0;34m(\u001b[0m\u001b[0mresponse\u001b[0m\u001b[0;34m)\u001b[0m\u001b[0;34m\u001b[0m\u001b[0;34m\u001b[0m\u001b[0m\n\u001b[0m\u001b[1;32m    431\u001b[0m             response['value'] = self._unwrap_value(\n\u001b[1;32m    432\u001b[0m                 response.get('value', None))\n",
      "\u001b[0;32m~/miniforge3/envs/tfvenv/lib/python3.8/site-packages/selenium/webdriver/remote/errorhandler.py\u001b[0m in \u001b[0;36mcheck_response\u001b[0;34m(self, response)\u001b[0m\n\u001b[1;32m    245\u001b[0m                 \u001b[0malert_text\u001b[0m \u001b[0;34m=\u001b[0m \u001b[0mvalue\u001b[0m\u001b[0;34m[\u001b[0m\u001b[0;34m'alert'\u001b[0m\u001b[0;34m]\u001b[0m\u001b[0;34m.\u001b[0m\u001b[0mget\u001b[0m\u001b[0;34m(\u001b[0m\u001b[0;34m'text'\u001b[0m\u001b[0;34m)\u001b[0m\u001b[0;34m\u001b[0m\u001b[0;34m\u001b[0m\u001b[0m\n\u001b[1;32m    246\u001b[0m             \u001b[0;32mraise\u001b[0m \u001b[0mexception_class\u001b[0m\u001b[0;34m(\u001b[0m\u001b[0mmessage\u001b[0m\u001b[0;34m,\u001b[0m \u001b[0mscreen\u001b[0m\u001b[0;34m,\u001b[0m \u001b[0mstacktrace\u001b[0m\u001b[0;34m,\u001b[0m \u001b[0malert_text\u001b[0m\u001b[0;34m)\u001b[0m  \u001b[0;31m# type: ignore[call-arg]  # mypy is not smart enough here\u001b[0m\u001b[0;34m\u001b[0m\u001b[0;34m\u001b[0m\u001b[0m\n\u001b[0;32m--> 247\u001b[0;31m         \u001b[0;32mraise\u001b[0m \u001b[0mexception_class\u001b[0m\u001b[0;34m(\u001b[0m\u001b[0mmessage\u001b[0m\u001b[0;34m,\u001b[0m \u001b[0mscreen\u001b[0m\u001b[0;34m,\u001b[0m \u001b[0mstacktrace\u001b[0m\u001b[0;34m)\u001b[0m\u001b[0;34m\u001b[0m\u001b[0;34m\u001b[0m\u001b[0m\n\u001b[0m\u001b[1;32m    248\u001b[0m \u001b[0;34m\u001b[0m\u001b[0m\n\u001b[1;32m    249\u001b[0m     \u001b[0;32mdef\u001b[0m \u001b[0m_value_or_default\u001b[0m\u001b[0;34m(\u001b[0m\u001b[0mself\u001b[0m\u001b[0;34m,\u001b[0m \u001b[0mobj\u001b[0m\u001b[0;34m:\u001b[0m \u001b[0mMapping\u001b[0m\u001b[0;34m[\u001b[0m\u001b[0m_KT\u001b[0m\u001b[0;34m,\u001b[0m \u001b[0m_VT\u001b[0m\u001b[0;34m]\u001b[0m\u001b[0;34m,\u001b[0m \u001b[0mkey\u001b[0m\u001b[0;34m:\u001b[0m \u001b[0m_KT\u001b[0m\u001b[0;34m,\u001b[0m \u001b[0mdefault\u001b[0m\u001b[0;34m:\u001b[0m \u001b[0m_VT\u001b[0m\u001b[0;34m)\u001b[0m \u001b[0;34m->\u001b[0m \u001b[0m_VT\u001b[0m\u001b[0;34m:\u001b[0m\u001b[0;34m\u001b[0m\u001b[0;34m\u001b[0m\u001b[0m\n",
      "\u001b[0;31mWebDriverException\u001b[0m: Message: unknown error: cannot determine loading status\nfrom unknown error: unexpected command response\n  (Session info: chrome=103.0.5060.53)\nStacktrace:\n0   chromedriver                        0x00000001048bdd14 chromedriver + 3792148\n1   chromedriver                        0x0000000104854828 chromedriver + 3360808\n2   chromedriver                        0x00000001045550b8 chromedriver + 217272\n3   chromedriver                        0x0000000104544124 chromedriver + 147748\n4   chromedriver                        0x00000001045438f4 chromedriver + 145652\n5   chromedriver                        0x0000000104542f50 chromedriver + 143184\n6   chromedriver                        0x0000000104542058 chromedriver + 139352\n7   chromedriver                        0x00000001045424f8 chromedriver + 140536\n8   chromedriver                        0x000000010454e394 chromedriver + 189332\n9   chromedriver                        0x000000010455ba20 chromedriver + 244256\n10  chromedriver                        0x000000010454279c chromedriver + 141212\n11  chromedriver                        0x000000010455b69c chromedriver + 243356\n12  chromedriver                        0x00000001045add74 chromedriver + 580980\n13  chromedriver                        0x000000010457a318 chromedriver + 369432\n14  chromedriver                        0x00000001048931e8 chromedriver + 3617256\n15  chromedriver                        0x0000000104897678 chromedriver + 3634808\n16  chromedriver                        0x000000010489bc6c chromedriver + 3652716\n17  chromedriver                        0x0000000104898110 chromedriver + 3637520\n18  chromedriver                        0x00000001048767ac chromedriver + 3499948\n19  chromedriver                        0x00000001048afbf0 chromedriver + 3734512\n20  chromedriver                        0x00000001048afd54 chromedriver + 3734868\n21  chromedriver                        0x00000001048c4558 chromedriver + 3818840\n22  libsystem_pthread.dylib             0x00000001926a426c _pthread_start + 148\n23  libsystem_pthread.dylib             0x000000019269f08c thread_start + 8\n"
     ]
    }
   ],
   "source": [
    "page = 1\n",
    "house_infos = list()\n",
    "while True:\n",
    "    try:\n",
    "        drive.get('https://nha.chotot.com/thue-phong-tro-da-nang?page=' + str(page))\n",
    "    except: break\n",
    "    houses = drive.find_elements(By.XPATH, value = '//a[@href and @class=\"AdItem_adItem__2O28x\"]')\n",
    "    if (houses == []): break\n",
    "    for i in range(len(houses)):\n",
    "        houses[i] = houses[i].get_attribute('href')\n",
    "    for house in houses:\n",
    "        drive.get(house)\n",
    "        try:\n",
    "            house_location= drive.find_element(By.XPATH, value = '//span[@class=\"fz13\"]').text.replace('Xem bản đồ','')\n",
    "            house_price = drive.find_element(By.XPATH, value = '//span[@itemprop=\"price\"]').text\n",
    "            house_name = drive.find_element(By.XPATH, value = '//h1[@class=\"AdDecription_adTitle__2I0VE\" and @itemprop=\"name\"]').text\n",
    "            house_date = drive.find_element(By.XPATH, value = '//span[@class=\"AdImage_imageCaptionText__39oDK\"]').text\n",
    "            house_features = drive.find_elements(By.XPATH, value = '//div[@class=\"col-md-6 no-padding AdParam_adParamItem__1o-dd\" and @data-testid=\"param-item\"]')\n",
    "            house_info = {}\n",
    "            house_info['Location'] = house_location\n",
    "            house_info['Price'] = house_price\n",
    "            house_info['Name'] = house_name\n",
    "            for index in range(len(house_features)):\n",
    "                if house_features[index].text[0] == 'T': house_info['Feature' + str(2)] = house_features[index].text\n",
    "                elif house_features[index].text[0] == 'S': house_info['Feature' + str(3)] = house_features[index].text\n",
    "                else: house_info['Feature' + str(index)] = house_features[index].text\n",
    "            house_infos.append(house_info)\n",
    "        except: continue\n",
    "    with open('save_page.txt','w') as file:\n",
    "        file.write(str(page))\n",
    "        file.close()\n",
    "    if (page % 10 == 0):\n",
    "        with open('../Raw_Data/chotot.pickle','wb') as handle:\n",
    "            pickle.dump(house_infos, handle, protocol=pickle.HIGHEST_PROTOCOL)\n",
    "    page+=1\n",
    "with open('../Raw_Data/chotot.pickle','wb') as handle:\n",
    "    pickle.dump(house_infos, handle, protocol=pickle.HIGHEST_PROTOCOL)\n",
    "drive.close()"
   ]
  },
  {
   "cell_type": "code",
   "execution_count": 7,
   "metadata": {},
   "outputs": [
    {
     "data": {
      "text/html": [
       "<div>\n",
       "<style scoped>\n",
       "    .dataframe tbody tr th:only-of-type {\n",
       "        vertical-align: middle;\n",
       "    }\n",
       "\n",
       "    .dataframe tbody tr th {\n",
       "        vertical-align: top;\n",
       "    }\n",
       "\n",
       "    .dataframe thead th {\n",
       "        text-align: right;\n",
       "    }\n",
       "</style>\n",
       "<table border=\"1\" class=\"dataframe\">\n",
       "  <thead>\n",
       "    <tr style=\"text-align: right;\">\n",
       "      <th></th>\n",
       "      <th>Location</th>\n",
       "      <th>Price</th>\n",
       "      <th>Name</th>\n",
       "      <th>Date</th>\n",
       "      <th>Feature0</th>\n",
       "      <th>Feature1</th>\n",
       "      <th>Feature3</th>\n",
       "      <th>Feature2</th>\n",
       "    </tr>\n",
       "  </thead>\n",
       "  <tbody>\n",
       "    <tr>\n",
       "      <th>0</th>\n",
       "      <td>17, Cẩm Băc 8, Phường Hòa Thọ Đông, Quận Cẩm L...</td>\n",
       "      <td>1,6 triệu/tháng- 20 m2</td>\n",
       "      <td>Phòng trọ Cẩm Lệ, rộng rãi, sạch đẹp an ninh!</td>\n",
       "      <td>Tin cá nhân đăng 2 tuần trước</td>\n",
       "      <td>Cho thuê</td>\n",
       "      <td>Diện tích: 20 m²</td>\n",
       "      <td>Số tiền cọc: 500.000 đ</td>\n",
       "      <td>NaN</td>\n",
       "    </tr>\n",
       "    <tr>\n",
       "      <th>1</th>\n",
       "      <td>132, Ba Tháng Hai, Phường Thuận Phước, Quận Hả...</td>\n",
       "      <td>1,1 triệu/tháng- 40 m2</td>\n",
       "      <td>Trọ homestay-1.1tr-Điều hoà-Bao điện nước</td>\n",
       "      <td>Tin cá nhân đăng 3 tuần trước</td>\n",
       "      <td>Cho thuê</td>\n",
       "      <td>Diện tích: 40 m²</td>\n",
       "      <td>Số tiền cọc: 50.000 đ</td>\n",
       "      <td>Tình trạng nội thất: Nội thất đầy đủ</td>\n",
       "    </tr>\n",
       "    <tr>\n",
       "      <th>2</th>\n",
       "      <td>K1120/58 Trường Chinh, Phường Hòa Phát, Quận C...</td>\n",
       "      <td>1,5 triệu/tháng- 20 m2</td>\n",
       "      <td>Phòng trọ Quận Cẩm Lệ 20m²</td>\n",
       "      <td>Tin cá nhân đăng 4 tháng trước</td>\n",
       "      <td>Cho thuê</td>\n",
       "      <td>Diện tích: 20 m²</td>\n",
       "      <td>Số tiền cọc: 500.000 đ</td>\n",
       "      <td>Tình trạng nội thất: Nhà trống</td>\n",
       "    </tr>\n",
       "    <tr>\n",
       "      <th>3</th>\n",
       "      <td>Trần Đăng, Phường Hòa Minh, Quận Liên Chiểu, Đ...</td>\n",
       "      <td>2,5 triệu/tháng- 25 m2</td>\n",
       "      <td>Phòng trọ Cao cấp25m² Kinh Dương Vương,Liên Chiểu</td>\n",
       "      <td>Tin cá nhân đăng 1 giờ trước</td>\n",
       "      <td>Cho thuê</td>\n",
       "      <td>Diện tích: 25 m²</td>\n",
       "      <td>Số tiền cọc: 2.500.000 đ</td>\n",
       "      <td>Tình trạng nội thất: Nội thất đầy đủ</td>\n",
       "    </tr>\n",
       "    <tr>\n",
       "      <th>4</th>\n",
       "      <td>Cao Xuân Duc, Phường Thuận Phước, Quận Hải Châ...</td>\n",
       "      <td>1,2 triệu/tháng- 30 m2</td>\n",
       "      <td>trọ homestay</td>\n",
       "      <td>Tin cá nhân đăng 2 giờ trước</td>\n",
       "      <td>Cho thuê</td>\n",
       "      <td>Diện tích: 30 m²</td>\n",
       "      <td>Số tiền cọc: 1.000.000 đ</td>\n",
       "      <td>Tình trạng nội thất: Nội thất đầy đủ</td>\n",
       "    </tr>\n",
       "  </tbody>\n",
       "</table>\n",
       "</div>"
      ],
      "text/plain": [
       "                                            Location                   Price  \\\n",
       "0  17, Cẩm Băc 8, Phường Hòa Thọ Đông, Quận Cẩm L...  1,6 triệu/tháng- 20 m2   \n",
       "1  132, Ba Tháng Hai, Phường Thuận Phước, Quận Hả...  1,1 triệu/tháng- 40 m2   \n",
       "2  K1120/58 Trường Chinh, Phường Hòa Phát, Quận C...  1,5 triệu/tháng- 20 m2   \n",
       "3  Trần Đăng, Phường Hòa Minh, Quận Liên Chiểu, Đ...  2,5 triệu/tháng- 25 m2   \n",
       "4  Cao Xuân Duc, Phường Thuận Phước, Quận Hải Châ...  1,2 triệu/tháng- 30 m2   \n",
       "\n",
       "                                                Name  \\\n",
       "0      Phòng trọ Cẩm Lệ, rộng rãi, sạch đẹp an ninh!   \n",
       "1          Trọ homestay-1.1tr-Điều hoà-Bao điện nước   \n",
       "2                         Phòng trọ Quận Cẩm Lệ 20m²   \n",
       "3  Phòng trọ Cao cấp25m² Kinh Dương Vương,Liên Chiểu   \n",
       "4                                       trọ homestay   \n",
       "\n",
       "                             Date  Feature0          Feature1  \\\n",
       "0   Tin cá nhân đăng 2 tuần trước  Cho thuê  Diện tích: 20 m²   \n",
       "1   Tin cá nhân đăng 3 tuần trước  Cho thuê  Diện tích: 40 m²   \n",
       "2  Tin cá nhân đăng 4 tháng trước  Cho thuê  Diện tích: 20 m²   \n",
       "3    Tin cá nhân đăng 1 giờ trước  Cho thuê  Diện tích: 25 m²   \n",
       "4    Tin cá nhân đăng 2 giờ trước  Cho thuê  Diện tích: 30 m²   \n",
       "\n",
       "                   Feature3                              Feature2  \n",
       "0    Số tiền cọc: 500.000 đ                                   NaN  \n",
       "1     Số tiền cọc: 50.000 đ  Tình trạng nội thất: Nội thất đầy đủ  \n",
       "2    Số tiền cọc: 500.000 đ        Tình trạng nội thất: Nhà trống  \n",
       "3  Số tiền cọc: 2.500.000 đ  Tình trạng nội thất: Nội thất đầy đủ  \n",
       "4  Số tiền cọc: 1.000.000 đ  Tình trạng nội thất: Nội thất đầy đủ  "
      ]
     },
     "execution_count": 7,
     "metadata": {},
     "output_type": "execute_result"
    }
   ],
   "source": [
    "with open(\"../Raw_Data/chotot.pickle\",\"rb\") as handle:\n",
    "    dataset = pickle.load(handle)\n",
    "dataset = pd.DataFrame(data = dataset)\n",
    "dataset.head()"
   ]
  },
  {
   "cell_type": "code",
   "execution_count": 8,
   "metadata": {},
   "outputs": [],
   "source": [
    "dataset.to_csv('../Raw_Data/chotot.csv')"
   ]
  }
 ],
 "metadata": {
  "interpreter": {
   "hash": "2b1e9e17499bdcd617ac999b9e0d15ff9db669911519856cfe61d394451d2847"
  },
  "kernelspec": {
   "display_name": "Python 3.8.12 ('tfvenv')",
   "language": "python",
   "name": "python3"
  },
  "language_info": {
   "codemirror_mode": {
    "name": "ipython",
    "version": 3
   },
   "file_extension": ".py",
   "mimetype": "text/x-python",
   "name": "python",
   "nbconvert_exporter": "python",
   "pygments_lexer": "ipython3",
   "version": "3.8.12"
  },
  "orig_nbformat": 4
 },
 "nbformat": 4,
 "nbformat_minor": 2
}
