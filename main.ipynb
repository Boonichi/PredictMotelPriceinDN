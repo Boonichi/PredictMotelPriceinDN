{
 "cells": [
  {
   "cell_type": "code",
   "execution_count": 1,
   "metadata": {},
   "outputs": [],
   "source": [
    "#Include Libraries:\n",
    "import os\n",
    "import numpy as np\n",
    "import pandas as pd\n",
    "import matplotlib.pyplot as plt\n",
    "import seaborn as sn\n",
    "from sklearn.preprocessing import OneHotEncoder, StandardScaler"
   ]
  },
  {
   "cell_type": "code",
   "execution_count": 2,
   "metadata": {},
   "outputs": [
    {
     "data": {
      "text/html": [
       "<div>\n",
       "<style scoped>\n",
       "    .dataframe tbody tr th:only-of-type {\n",
       "        vertical-align: middle;\n",
       "    }\n",
       "\n",
       "    .dataframe tbody tr th {\n",
       "        vertical-align: top;\n",
       "    }\n",
       "\n",
       "    .dataframe thead th {\n",
       "        text-align: right;\n",
       "    }\n",
       "</style>\n",
       "<table border=\"1\" class=\"dataframe\">\n",
       "  <thead>\n",
       "    <tr style=\"text-align: right;\">\n",
       "      <th></th>\n",
       "      <th>Price</th>\n",
       "      <th>Area</th>\n",
       "      <th>Deposit Fee</th>\n",
       "      <th>Furniture</th>\n",
       "      <th>Ward</th>\n",
       "      <th>District</th>\n",
       "    </tr>\n",
       "  </thead>\n",
       "  <tbody>\n",
       "    <tr>\n",
       "      <th>0</th>\n",
       "      <td>1600000</td>\n",
       "      <td>20</td>\n",
       "      <td>500000.0</td>\n",
       "      <td>NaN</td>\n",
       "      <td>Hòa Thọ Đông</td>\n",
       "      <td>Cẩm Lệ</td>\n",
       "    </tr>\n",
       "    <tr>\n",
       "      <th>1</th>\n",
       "      <td>1100000</td>\n",
       "      <td>40</td>\n",
       "      <td>50000.0</td>\n",
       "      <td>Nội thất đầy đủ</td>\n",
       "      <td>Thuận Phước</td>\n",
       "      <td>Hải Châu</td>\n",
       "    </tr>\n",
       "    <tr>\n",
       "      <th>2</th>\n",
       "      <td>1500000</td>\n",
       "      <td>20</td>\n",
       "      <td>500000.0</td>\n",
       "      <td>Nhà trống</td>\n",
       "      <td>Hòa Phát</td>\n",
       "      <td>Cẩm Lệ</td>\n",
       "    </tr>\n",
       "    <tr>\n",
       "      <th>3</th>\n",
       "      <td>2500000</td>\n",
       "      <td>25</td>\n",
       "      <td>2500000.0</td>\n",
       "      <td>Nội thất đầy đủ</td>\n",
       "      <td>Hòa Minh</td>\n",
       "      <td>Liên Chiểu</td>\n",
       "    </tr>\n",
       "    <tr>\n",
       "      <th>4</th>\n",
       "      <td>1200000</td>\n",
       "      <td>30</td>\n",
       "      <td>1000000.0</td>\n",
       "      <td>Nội thất đầy đủ</td>\n",
       "      <td>Thuận Phước</td>\n",
       "      <td>Hải Châu</td>\n",
       "    </tr>\n",
       "  </tbody>\n",
       "</table>\n",
       "</div>"
      ],
      "text/plain": [
       "     Price  Area  Deposit Fee        Furniture           Ward     District\n",
       "0  1600000    20     500000.0              NaN   Hòa Thọ Đông       Cẩm Lệ\n",
       "1  1100000    40      50000.0  Nội thất đầy đủ    Thuận Phước     Hải Châu\n",
       "2  1500000    20     500000.0        Nhà trống       Hòa Phát       Cẩm Lệ\n",
       "3  2500000    25    2500000.0  Nội thất đầy đủ       Hòa Minh   Liên Chiểu\n",
       "4  1200000    30    1000000.0  Nội thất đầy đủ    Thuận Phước     Hải Châu"
      ]
     },
     "execution_count": 2,
     "metadata": {},
     "output_type": "execute_result"
    }
   ],
   "source": [
    "#Preparing Dataset\n",
    "dataset_dir = \"./Dataset/\"\n",
    "chotot_dataset = pd.read_csv(dataset_dir + \"chotot.csv\",index_col = [0])\n",
    "chotot_dataset.head()"
   ]
  },
  {
   "cell_type": "code",
   "execution_count": 3,
   "metadata": {},
   "outputs": [
    {
     "data": {
      "text/html": [
       "<div>\n",
       "<style scoped>\n",
       "    .dataframe tbody tr th:only-of-type {\n",
       "        vertical-align: middle;\n",
       "    }\n",
       "\n",
       "    .dataframe tbody tr th {\n",
       "        vertical-align: top;\n",
       "    }\n",
       "\n",
       "    .dataframe thead th {\n",
       "        text-align: right;\n",
       "    }\n",
       "</style>\n",
       "<table border=\"1\" class=\"dataframe\">\n",
       "  <thead>\n",
       "    <tr style=\"text-align: right;\">\n",
       "      <th></th>\n",
       "      <th>Price</th>\n",
       "      <th>Area</th>\n",
       "      <th>Ward</th>\n",
       "      <th>District</th>\n",
       "    </tr>\n",
       "  </thead>\n",
       "  <tbody>\n",
       "    <tr>\n",
       "      <th>0</th>\n",
       "      <td>1300000.0</td>\n",
       "      <td>20</td>\n",
       "      <td>Hòa Minh</td>\n",
       "      <td>Liên Chiểu</td>\n",
       "    </tr>\n",
       "    <tr>\n",
       "      <th>1</th>\n",
       "      <td>3000000.0</td>\n",
       "      <td>25</td>\n",
       "      <td>Nại Hiên Đông</td>\n",
       "      <td>Sơn Trà</td>\n",
       "    </tr>\n",
       "    <tr>\n",
       "      <th>2</th>\n",
       "      <td>1500000.0</td>\n",
       "      <td>15</td>\n",
       "      <td>Hòa Khê</td>\n",
       "      <td>Thanh Khê</td>\n",
       "    </tr>\n",
       "    <tr>\n",
       "      <th>3</th>\n",
       "      <td>2600000.0</td>\n",
       "      <td>30</td>\n",
       "      <td>An Hải Bắc</td>\n",
       "      <td>Sơn Trà</td>\n",
       "    </tr>\n",
       "    <tr>\n",
       "      <th>4</th>\n",
       "      <td>3200000.0</td>\n",
       "      <td>40</td>\n",
       "      <td>Hòa Khánh Nam</td>\n",
       "      <td>Liên Chiểu</td>\n",
       "    </tr>\n",
       "  </tbody>\n",
       "</table>\n",
       "</div>"
      ],
      "text/plain": [
       "       Price  Area            Ward     District\n",
       "0  1300000.0    20        Hòa Minh   Liên Chiểu\n",
       "1  3000000.0    25   Nại Hiên Đông      Sơn Trà\n",
       "2  1500000.0    15         Hòa Khê    Thanh Khê\n",
       "3  2600000.0    30      An Hải Bắc      Sơn Trà\n",
       "4  3200000.0    40   Hòa Khánh Nam   Liên Chiểu"
      ]
     },
     "execution_count": 3,
     "metadata": {},
     "output_type": "execute_result"
    }
   ],
   "source": [
    "phongtro123_dataset = pd.read_csv(dataset_dir + \"phongtro123.csv\",index_col=[0])\n",
    "phongtro123_dataset.head()"
   ]
  },
  {
   "cell_type": "code",
   "execution_count": 4,
   "metadata": {},
   "outputs": [
    {
     "name": "stdout",
     "output_type": "stream",
     "text": [
      "(1654, 4)\n"
     ]
    },
    {
     "data": {
      "text/html": [
       "<div>\n",
       "<style scoped>\n",
       "    .dataframe tbody tr th:only-of-type {\n",
       "        vertical-align: middle;\n",
       "    }\n",
       "\n",
       "    .dataframe tbody tr th {\n",
       "        vertical-align: top;\n",
       "    }\n",
       "\n",
       "    .dataframe thead th {\n",
       "        text-align: right;\n",
       "    }\n",
       "</style>\n",
       "<table border=\"1\" class=\"dataframe\">\n",
       "  <thead>\n",
       "    <tr style=\"text-align: right;\">\n",
       "      <th></th>\n",
       "      <th>Price</th>\n",
       "      <th>Area</th>\n",
       "      <th>Ward</th>\n",
       "      <th>District</th>\n",
       "    </tr>\n",
       "  </thead>\n",
       "  <tbody>\n",
       "    <tr>\n",
       "      <th>0</th>\n",
       "      <td>1600000.0</td>\n",
       "      <td>20</td>\n",
       "      <td>Hòa Thọ Đông</td>\n",
       "      <td>Cẩm Lệ</td>\n",
       "    </tr>\n",
       "    <tr>\n",
       "      <th>1</th>\n",
       "      <td>1100000.0</td>\n",
       "      <td>40</td>\n",
       "      <td>Thuận Phước</td>\n",
       "      <td>Hải Châu</td>\n",
       "    </tr>\n",
       "    <tr>\n",
       "      <th>2</th>\n",
       "      <td>1500000.0</td>\n",
       "      <td>20</td>\n",
       "      <td>Hòa Phát</td>\n",
       "      <td>Cẩm Lệ</td>\n",
       "    </tr>\n",
       "    <tr>\n",
       "      <th>3</th>\n",
       "      <td>2500000.0</td>\n",
       "      <td>25</td>\n",
       "      <td>Hòa Minh</td>\n",
       "      <td>Liên Chiểu</td>\n",
       "    </tr>\n",
       "    <tr>\n",
       "      <th>4</th>\n",
       "      <td>1200000.0</td>\n",
       "      <td>30</td>\n",
       "      <td>Thuận Phước</td>\n",
       "      <td>Hải Châu</td>\n",
       "    </tr>\n",
       "  </tbody>\n",
       "</table>\n",
       "</div>"
      ],
      "text/plain": [
       "       Price  Area           Ward     District\n",
       "0  1600000.0    20   Hòa Thọ Đông       Cẩm Lệ\n",
       "1  1100000.0    40    Thuận Phước     Hải Châu\n",
       "2  1500000.0    20       Hòa Phát       Cẩm Lệ\n",
       "3  2500000.0    25       Hòa Minh   Liên Chiểu\n",
       "4  1200000.0    30    Thuận Phước     Hải Châu"
      ]
     },
     "execution_count": 4,
     "metadata": {},
     "output_type": "execute_result"
    }
   ],
   "source": [
    "chotot_dataset = chotot_dataset.drop(columns=['Furniture','Deposit Fee'])\n",
    "Dataset = pd.concat([chotot_dataset, phongtro123_dataset])\n",
    "print(Dataset.shape)\n",
    "Dataset.head()"
   ]
  },
  {
   "cell_type": "code",
   "execution_count": 5,
   "metadata": {},
   "outputs": [
    {
     "data": {
      "text/plain": [
       "Price        20\n",
       "Area          0\n",
       "Ward        104\n",
       "District     36\n",
       "dtype: int64"
      ]
     },
     "execution_count": 5,
     "metadata": {},
     "output_type": "execute_result"
    }
   ],
   "source": [
    "Dataset.isna().sum()"
   ]
  },
  {
   "cell_type": "code",
   "execution_count": 8,
   "metadata": {},
   "outputs": [
    {
     "data": {
      "text/plain": [
       "array([' Cẩm Lệ', ' Hải Châu', ' Liên Chiểu', ' Sơn Trà', ' Ngũ Hành Sơn',\n",
       "       ' Thanh Khê', ' Hòa Vang', ' Hoà Vang', ' Thanh Quan', nan],\n",
       "      dtype=object)"
      ]
     },
     "execution_count": 8,
     "metadata": {},
     "output_type": "execute_result"
    }
   ],
   "source": []
  },
  {
   "cell_type": "code",
   "execution_count": 7,
   "metadata": {},
   "outputs": [
    {
     "ename": "SyntaxError",
     "evalue": "invalid syntax (3932935114.py, line 2)",
     "output_type": "error",
     "traceback": [
      "\u001b[0;36m  File \u001b[0;32m\"/var/folders/2r/vgdn5c2j5fb567xb2nm5_qfm0000gn/T/ipykernel_84943/3932935114.py\"\u001b[0;36m, line \u001b[0;32m2\u001b[0m\n\u001b[0;31m    Dataset['Ward'] =\u001b[0m\n\u001b[0m                      ^\u001b[0m\n\u001b[0;31mSyntaxError\u001b[0m\u001b[0;31m:\u001b[0m invalid syntax\n"
     ]
    }
   ],
   "source": [
    "Dataset['Price'] = Dataset.fillna(value = Dataset['Price'].mean(), inplace = True)\n",
    "Dataset['Ward'] = "
   ]
  }
 ],
 "metadata": {
  "kernelspec": {
   "display_name": "Python 3.8.12 ('tfvenv')",
   "language": "python",
   "name": "python3"
  },
  "language_info": {
   "codemirror_mode": {
    "name": "ipython",
    "version": 3
   },
   "file_extension": ".py",
   "mimetype": "text/x-python",
   "name": "python",
   "nbconvert_exporter": "python",
   "pygments_lexer": "ipython3",
   "version": "3.8.12"
  },
  "orig_nbformat": 4,
  "vscode": {
   "interpreter": {
    "hash": "2b1e9e17499bdcd617ac999b9e0d15ff9db669911519856cfe61d394451d2847"
   }
  }
 },
 "nbformat": 4,
 "nbformat_minor": 2
}
