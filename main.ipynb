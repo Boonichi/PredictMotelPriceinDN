{
 "cells": [
  {
   "cell_type": "code",
   "execution_count": null,
   "metadata": {},
   "outputs": [],
   "source": [
    "#Import Libraries:\n",
    "import os\n",
    "from time import sleep\n",
    "import pandas as pd\n",
    "import numpy as np\n",
    "from bs4 import BeautifulSoup as bs\n",
    "import requests\n",
    "from selenium import webdriver\n",
    "from selenium.webdriver.common.keys import Keys\n",
    "from webdriver_manager.chrome import ChromeDriverManager\n",
    "from selenium.webdriver.common.by import By\n",
    "from selenium.webdriver.support.ui import WebDriverWait\n",
    "import pickle"
   ]
  },
  {
   "cell_type": "code",
   "execution_count": null,
   "metadata": {},
   "outputs": [],
   "source": [
    "#https://nha.chotot.com/thue-phong-tro-da-nang?page=1\n",
    "#https://phongtro123.com/tinh-thanh/da-nang"
   ]
  },
  {
   "cell_type": "code",
   "execution_count": null,
   "metadata": {},
   "outputs": [],
   "source": [
    "drive = webdriver.Chrome(ChromeDriverManager().install())\n",
    "drive.maximize_window()\n",
    "wait = WebDriverWait(drive, 10)"
   ]
  },
  {
   "cell_type": "code",
   "execution_count": null,
   "metadata": {},
   "outputs": [],
   "source": [
    "page = 1\n",
    "house_infos = list()\n",
    "while True:\n",
    "    try:\n",
    "        drive.get('https://nha.chotot.com/thue-phong-tro-da-nang?page=' + str(page))\n",
    "    except: break\n",
    "    houses = drive.find_elements(By.XPATH, value = '//a[@href and @class=\"AdItem_adItem__2O28x\"]')\n",
    "    if (houses == []) break;\n",
    "    for i in range(len(houses)):\n",
    "        houses[i] = houses[i].get_attribute('href')\n",
    "    for house in houses:\n",
    "        drive.get(house)\n",
    "        try:\n",
    "            house_location= drive.find_element(By.XPATH, value = '//span[@class=\"fz13\"]').text.replace('Xem bản đồ','')\n",
    "            house_price = drive.find_element(By.XPATH, value = '//span[@itemprop=\"price\"]').text\n",
    "            house_area = drive.find_element(By.XPATH, value = '//span[@class=\"AdDecription_squareMetre__2KYh8\"]').text\n",
    "            house_name = drive.find_element(By.XPATH, value = '//h1[@class=\"AdDecription_adTitle__2I0VE\" and @itemprop=\"name\"]').text\n",
    "            house_date = drive.find_element(By.XPATH, value = '//span[@class=\"AdImage_imageCaptionText__39oDK\"]').text\n",
    "            house_features = drive.find_elements(By.XPATH, value = '//div[@class=\"col-md-6 no-padding AdParam_adParamItem__1o-dd\" and @data-testid=\"param-item\"]')\n",
    "            house_info = {}\n",
    "            house_info['Location'] = house_location\n",
    "            house_info['Price'] = house_price\n",
    "            house_info['Area'] = house_area\n",
    "            house_info['Name'] = house_name\n",
    "            house_info['Date'] = house_date\n",
    "            for index in range(len(house_features)):\n",
    "                if house_features[index].text[0] == 'T': house_info['Feature' + str(2)] = house_features[index].text\n",
    "                elif house_features[index].text[0] == 'S': house_info['Feature' + str(3)] = house_features[index].text\n",
    "                else: house_info['Feature' + str(index)] = house_features[index].text\n",
    "            house_infos.append(house_info)\n",
    "        except: continue\n",
    "    with open('save_page.txt','w') as file:\n",
    "        file.write(str(page))\n",
    "        file.close()\n",
    "    if (page % 10 == 0):\n",
    "        with open('save_house.pickle','wb') as handle:\n",
    "            pickle.dump(house_infos, handle, protocol=pickle.HIGHEST_PROTOCOL)\n",
    "    page+=1\n",
    "with open('save_house.pickle','wb') as handle:\n",
    "    pickle.dump(house_infos, handle, protocol=pickle.HIGHEST_PROTOCOL)\n",
    "drive.close()"
   ]
  },
  {
   "cell_type": "code",
   "execution_count": null,
   "metadata": {},
   "outputs": [],
   "source": [
    "dataset = pd.DataFrame(data = house_infos)\n",
    "dataset.head()"
   ]
  },
  {
   "cell_type": "code",
   "execution_count": null,
   "metadata": {},
   "outputs": [],
   "source": [
    "dataset.to_csv('raw_data.csv')"
   ]
  }
 ],
 "metadata": {
  "interpreter": {
   "hash": "2b1e9e17499bdcd617ac999b9e0d15ff9db669911519856cfe61d394451d2847"
  },
  "kernelspec": {
   "display_name": "Python 3.8.12 ('tfvenv')",
   "language": "python",
   "name": "python3"
  },
  "language_info": {
   "codemirror_mode": {
    "name": "ipython",
    "version": 3
   },
   "file_extension": ".py",
   "mimetype": "text/x-python",
   "name": "python",
   "nbconvert_exporter": "python",
   "pygments_lexer": "ipython3",
   "version": "3.8.12"
  },
  "orig_nbformat": 4
 },
 "nbformat": 4,
 "nbformat_minor": 2
}
