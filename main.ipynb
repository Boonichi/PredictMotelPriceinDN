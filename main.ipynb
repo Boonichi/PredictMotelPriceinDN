{
 "cells": [
  {
   "cell_type": "code",
   "execution_count": 1,
   "metadata": {},
   "outputs": [],
   "source": [
    "#Include Libraries:\n",
    "import os\n",
    "import numpy as np\n",
    "import pandas as pd\n",
    "import matplotlib.pyplot as plt\n",
    "import seaborn as sns\n",
    "from sklearn.preprocessing import OneHotEncoder, StandardScaler"
   ]
  },
  {
   "cell_type": "code",
   "execution_count": 2,
   "metadata": {},
   "outputs": [
    {
     "name": "stdout",
     "output_type": "stream",
     "text": [
      "       Price  Area            Ward     District\n",
      "0  1300000.0    20        Hòa Minh   Liên Chiểu\n",
      "1  3000000.0    25   Nại Hiên Đông      Sơn Trà\n",
      "2  1500000.0    15         Hòa Khê    Thanh Khê\n",
      "3  2600000.0    30      An Hải Bắc      Sơn Trà\n",
      "4  3200000.0    40   Hòa Khánh Nam   Liên Chiểu\n",
      "     Price  Area  Deposit Fee        Furniture           Ward     District\n",
      "0  1600000    20     500000.0              NaN   Hòa Thọ Đông       Cẩm Lệ\n",
      "1  1100000    40      50000.0  Nội thất đầy đủ    Thuận Phước     Hải Châu\n",
      "2  1500000    20     500000.0        Nhà trống       Hòa Phát       Cẩm Lệ\n",
      "3  2500000    25    2500000.0  Nội thất đầy đủ       Hòa Minh   Liên Chiểu\n",
      "4  1200000    30    1000000.0  Nội thất đầy đủ    Thuận Phước     Hải Châu\n"
     ]
    }
   ],
   "source": [
    "#Read CSV Files\n",
    "dataset_dir = \"./Dataset/\"\n",
    "chotot_dataset = pd.read_csv(dataset_dir + \"chotot.csv\",index_col = [0])\n",
    "phongtro123_dataset = pd.read_csv(dataset_dir + \"phongtro123.csv\",index_col=[0])\n",
    "print(phongtro123_dataset.head())\n",
    "print(chotot_dataset.head())"
   ]
  },
  {
   "cell_type": "code",
   "execution_count": 3,
   "metadata": {},
   "outputs": [
    {
     "name": "stdout",
     "output_type": "stream",
     "text": [
      "(1654, 5)\n"
     ]
    },
    {
     "data": {
      "text/html": [
       "<div>\n",
       "<style scoped>\n",
       "    .dataframe tbody tr th:only-of-type {\n",
       "        vertical-align: middle;\n",
       "    }\n",
       "\n",
       "    .dataframe tbody tr th {\n",
       "        vertical-align: top;\n",
       "    }\n",
       "\n",
       "    .dataframe thead th {\n",
       "        text-align: right;\n",
       "    }\n",
       "</style>\n",
       "<table border=\"1\" class=\"dataframe\">\n",
       "  <thead>\n",
       "    <tr style=\"text-align: right;\">\n",
       "      <th></th>\n",
       "      <th>Price</th>\n",
       "      <th>Area</th>\n",
       "      <th>Furniture</th>\n",
       "      <th>Ward</th>\n",
       "      <th>District</th>\n",
       "    </tr>\n",
       "  </thead>\n",
       "  <tbody>\n",
       "    <tr>\n",
       "      <th>0</th>\n",
       "      <td>1600000.0</td>\n",
       "      <td>20</td>\n",
       "      <td>NaN</td>\n",
       "      <td>Hòa Thọ Đông</td>\n",
       "      <td>Cẩm Lệ</td>\n",
       "    </tr>\n",
       "    <tr>\n",
       "      <th>1</th>\n",
       "      <td>1100000.0</td>\n",
       "      <td>40</td>\n",
       "      <td>Nội thất đầy đủ</td>\n",
       "      <td>Thuận Phước</td>\n",
       "      <td>Hải Châu</td>\n",
       "    </tr>\n",
       "    <tr>\n",
       "      <th>2</th>\n",
       "      <td>1500000.0</td>\n",
       "      <td>20</td>\n",
       "      <td>Nhà trống</td>\n",
       "      <td>Hòa Phát</td>\n",
       "      <td>Cẩm Lệ</td>\n",
       "    </tr>\n",
       "    <tr>\n",
       "      <th>3</th>\n",
       "      <td>2500000.0</td>\n",
       "      <td>25</td>\n",
       "      <td>Nội thất đầy đủ</td>\n",
       "      <td>Hòa Minh</td>\n",
       "      <td>Liên Chiểu</td>\n",
       "    </tr>\n",
       "    <tr>\n",
       "      <th>4</th>\n",
       "      <td>1200000.0</td>\n",
       "      <td>30</td>\n",
       "      <td>Nội thất đầy đủ</td>\n",
       "      <td>Thuận Phước</td>\n",
       "      <td>Hải Châu</td>\n",
       "    </tr>\n",
       "  </tbody>\n",
       "</table>\n",
       "</div>"
      ],
      "text/plain": [
       "       Price  Area        Furniture           Ward     District\n",
       "0  1600000.0    20              NaN   Hòa Thọ Đông       Cẩm Lệ\n",
       "1  1100000.0    40  Nội thất đầy đủ    Thuận Phước     Hải Châu\n",
       "2  1500000.0    20        Nhà trống       Hòa Phát       Cẩm Lệ\n",
       "3  2500000.0    25  Nội thất đầy đủ       Hòa Minh   Liên Chiểu\n",
       "4  1200000.0    30  Nội thất đầy đủ    Thuận Phước     Hải Châu"
      ]
     },
     "execution_count": 3,
     "metadata": {},
     "output_type": "execute_result"
    }
   ],
   "source": [
    "#Preparing Dataset for Feature Engineering\n",
    "chotot_dataset = chotot_dataset.drop(columns=['Deposit Fee'])\n",
    "Dataset = pd.concat([chotot_dataset, phongtro123_dataset])\n",
    "print(Dataset.shape)\n",
    "Dataset.head()"
   ]
  },
  {
   "cell_type": "code",
   "execution_count": 4,
   "metadata": {},
   "outputs": [
    {
     "data": {
      "text/plain": [
       "Price          20\n",
       "Area            0\n",
       "Furniture    1213\n",
       "Ward          103\n",
       "District       36\n",
       "dtype: int64"
      ]
     },
     "execution_count": 4,
     "metadata": {},
     "output_type": "execute_result"
    }
   ],
   "source": [
    "#Checking Nan values in Dataset\n",
    "Dataset.isna().sum()"
   ]
  },
  {
   "cell_type": "code",
   "execution_count": 5,
   "metadata": {},
   "outputs": [],
   "source": [
    "#Splitting Continous and Categorical columns\n",
    "Categorical_cols = ['Ward','District','Furniture']\n",
    "Continous_cols = ['Area']"
   ]
  },
  {
   "cell_type": "code",
   "execution_count": 6,
   "metadata": {},
   "outputs": [],
   "source": [
    "#Filling Nan values in these feature columns\n",
    "Dataset = Dataset[Dataset['Price'].notna()]\n",
    "Dataset.Furniture.fillna(value = \"Unknown F\", inplace = True)\n",
    "Dataset.Ward.fillna(value = \"Unknown W\", inplace = True)\n",
    "Dataset.District.fillna(value = \"Unknown D\", inplace = True)"
   ]
  },
  {
   "cell_type": "code",
   "execution_count": 7,
   "metadata": {},
   "outputs": [
    {
     "data": {
      "text/plain": [
       "Price        0\n",
       "Area         0\n",
       "Furniture    0\n",
       "Ward         0\n",
       "District     0\n",
       "dtype: int64"
      ]
     },
     "execution_count": 7,
     "metadata": {},
     "output_type": "execute_result"
    }
   ],
   "source": [
    "Dataset.isna().sum()"
   ]
  },
  {
   "cell_type": "code",
   "execution_count": 8,
   "metadata": {},
   "outputs": [],
   "source": [
    "#Onehot Encoding for Categorical Columns\n",
    "ohe = OneHotEncoder(sparse=False)\n",
    "ohe_set = ohe.fit_transform(Dataset[Categorical_cols])\n",
    "ohe_name_col = []\n",
    "for i in ohe.categories_:\n",
    "    ohe_name_col+=(i.tolist())"
   ]
  },
  {
   "cell_type": "code",
   "execution_count": 9,
   "metadata": {},
   "outputs": [],
   "source": [
    "#Standard Scaler for Continous Columns\n",
    "std = StandardScaler()\n",
    "std_set = std.fit_transform(Dataset[Continous_cols])"
   ]
  },
  {
   "cell_type": "code",
   "execution_count": 10,
   "metadata": {},
   "outputs": [
    {
     "data": {
      "text/html": [
       "<div>\n",
       "<style scoped>\n",
       "    .dataframe tbody tr th:only-of-type {\n",
       "        vertical-align: middle;\n",
       "    }\n",
       "\n",
       "    .dataframe tbody tr th {\n",
       "        vertical-align: top;\n",
       "    }\n",
       "\n",
       "    .dataframe thead th {\n",
       "        text-align: right;\n",
       "    }\n",
       "</style>\n",
       "<table border=\"1\" class=\"dataframe\">\n",
       "  <thead>\n",
       "    <tr style=\"text-align: right;\">\n",
       "      <th></th>\n",
       "      <th>An Hải Bắc</th>\n",
       "      <th>An Hải Tây</th>\n",
       "      <th>An Hải Đông</th>\n",
       "      <th>An Khê</th>\n",
       "      <th>Bình Hiên</th>\n",
       "      <th>Bình Thuận</th>\n",
       "      <th>Chính Gián</th>\n",
       "      <th>Hoà Hải</th>\n",
       "      <th>Hoà Quý</th>\n",
       "      <th>Hòa An</th>\n",
       "      <th>...</th>\n",
       "      <th>Hòa Vang</th>\n",
       "      <th>Hải Châu</th>\n",
       "      <th>Liên Chiểu</th>\n",
       "      <th>Ngũ Hành Sơn</th>\n",
       "      <th>Sơn Trà</th>\n",
       "      <th>Thanh Khê</th>\n",
       "      <th>Nhà trống</th>\n",
       "      <th>Nội thất cao cấp</th>\n",
       "      <th>Nội thất đầy đủ</th>\n",
       "      <th>Area</th>\n",
       "    </tr>\n",
       "  </thead>\n",
       "  <tbody>\n",
       "    <tr>\n",
       "      <th>0</th>\n",
       "      <td>0.0</td>\n",
       "      <td>0.0</td>\n",
       "      <td>0.0</td>\n",
       "      <td>0.0</td>\n",
       "      <td>0.0</td>\n",
       "      <td>0.0</td>\n",
       "      <td>0.0</td>\n",
       "      <td>0.0</td>\n",
       "      <td>0.0</td>\n",
       "      <td>0.0</td>\n",
       "      <td>...</td>\n",
       "      <td>0.0</td>\n",
       "      <td>0.0</td>\n",
       "      <td>0.0</td>\n",
       "      <td>0.0</td>\n",
       "      <td>0.0</td>\n",
       "      <td>0.0</td>\n",
       "      <td>0.0</td>\n",
       "      <td>0.0</td>\n",
       "      <td>0.0</td>\n",
       "      <td>-0.030968</td>\n",
       "    </tr>\n",
       "    <tr>\n",
       "      <th>1</th>\n",
       "      <td>0.0</td>\n",
       "      <td>0.0</td>\n",
       "      <td>0.0</td>\n",
       "      <td>0.0</td>\n",
       "      <td>0.0</td>\n",
       "      <td>0.0</td>\n",
       "      <td>0.0</td>\n",
       "      <td>0.0</td>\n",
       "      <td>0.0</td>\n",
       "      <td>0.0</td>\n",
       "      <td>...</td>\n",
       "      <td>0.0</td>\n",
       "      <td>1.0</td>\n",
       "      <td>0.0</td>\n",
       "      <td>0.0</td>\n",
       "      <td>0.0</td>\n",
       "      <td>0.0</td>\n",
       "      <td>0.0</td>\n",
       "      <td>0.0</td>\n",
       "      <td>1.0</td>\n",
       "      <td>-0.029384</td>\n",
       "    </tr>\n",
       "    <tr>\n",
       "      <th>2</th>\n",
       "      <td>0.0</td>\n",
       "      <td>0.0</td>\n",
       "      <td>0.0</td>\n",
       "      <td>0.0</td>\n",
       "      <td>0.0</td>\n",
       "      <td>0.0</td>\n",
       "      <td>0.0</td>\n",
       "      <td>0.0</td>\n",
       "      <td>0.0</td>\n",
       "      <td>0.0</td>\n",
       "      <td>...</td>\n",
       "      <td>0.0</td>\n",
       "      <td>0.0</td>\n",
       "      <td>0.0</td>\n",
       "      <td>0.0</td>\n",
       "      <td>0.0</td>\n",
       "      <td>0.0</td>\n",
       "      <td>1.0</td>\n",
       "      <td>0.0</td>\n",
       "      <td>0.0</td>\n",
       "      <td>-0.030968</td>\n",
       "    </tr>\n",
       "    <tr>\n",
       "      <th>3</th>\n",
       "      <td>0.0</td>\n",
       "      <td>0.0</td>\n",
       "      <td>0.0</td>\n",
       "      <td>0.0</td>\n",
       "      <td>0.0</td>\n",
       "      <td>0.0</td>\n",
       "      <td>0.0</td>\n",
       "      <td>0.0</td>\n",
       "      <td>0.0</td>\n",
       "      <td>0.0</td>\n",
       "      <td>...</td>\n",
       "      <td>0.0</td>\n",
       "      <td>0.0</td>\n",
       "      <td>1.0</td>\n",
       "      <td>0.0</td>\n",
       "      <td>0.0</td>\n",
       "      <td>0.0</td>\n",
       "      <td>0.0</td>\n",
       "      <td>0.0</td>\n",
       "      <td>1.0</td>\n",
       "      <td>-0.030572</td>\n",
       "    </tr>\n",
       "    <tr>\n",
       "      <th>4</th>\n",
       "      <td>0.0</td>\n",
       "      <td>0.0</td>\n",
       "      <td>0.0</td>\n",
       "      <td>0.0</td>\n",
       "      <td>0.0</td>\n",
       "      <td>0.0</td>\n",
       "      <td>0.0</td>\n",
       "      <td>0.0</td>\n",
       "      <td>0.0</td>\n",
       "      <td>0.0</td>\n",
       "      <td>...</td>\n",
       "      <td>0.0</td>\n",
       "      <td>1.0</td>\n",
       "      <td>0.0</td>\n",
       "      <td>0.0</td>\n",
       "      <td>0.0</td>\n",
       "      <td>0.0</td>\n",
       "      <td>0.0</td>\n",
       "      <td>0.0</td>\n",
       "      <td>1.0</td>\n",
       "      <td>-0.030176</td>\n",
       "    </tr>\n",
       "  </tbody>\n",
       "</table>\n",
       "<p>5 rows × 67 columns</p>\n",
       "</div>"
      ],
      "text/plain": [
       "    An Hải Bắc   An Hải Tây   An Hải Đông   An Khê   Bình Hiên   Bình Thuận  \\\n",
       "0          0.0          0.0           0.0      0.0         0.0          0.0   \n",
       "1          0.0          0.0           0.0      0.0         0.0          0.0   \n",
       "2          0.0          0.0           0.0      0.0         0.0          0.0   \n",
       "3          0.0          0.0           0.0      0.0         0.0          0.0   \n",
       "4          0.0          0.0           0.0      0.0         0.0          0.0   \n",
       "\n",
       "    Chính Gián   Hoà Hải   Hoà Quý   Hòa An  ...   Hòa Vang   Hải Châu  \\\n",
       "0          0.0       0.0       0.0      0.0  ...        0.0        0.0   \n",
       "1          0.0       0.0       0.0      0.0  ...        0.0        1.0   \n",
       "2          0.0       0.0       0.0      0.0  ...        0.0        0.0   \n",
       "3          0.0       0.0       0.0      0.0  ...        0.0        0.0   \n",
       "4          0.0       0.0       0.0      0.0  ...        0.0        1.0   \n",
       "\n",
       "    Liên Chiểu   Ngũ Hành Sơn   Sơn Trà   Thanh Khê  Nhà trống  \\\n",
       "0          0.0            0.0       0.0         0.0        0.0   \n",
       "1          0.0            0.0       0.0         0.0        0.0   \n",
       "2          0.0            0.0       0.0         0.0        1.0   \n",
       "3          1.0            0.0       0.0         0.0        0.0   \n",
       "4          0.0            0.0       0.0         0.0        0.0   \n",
       "\n",
       "   Nội thất cao cấp  Nội thất đầy đủ      Area  \n",
       "0               0.0              0.0 -0.030968  \n",
       "1               0.0              1.0 -0.029384  \n",
       "2               0.0              0.0 -0.030968  \n",
       "3               0.0              1.0 -0.030572  \n",
       "4               0.0              1.0 -0.030176  \n",
       "\n",
       "[5 rows x 67 columns]"
      ]
     },
     "execution_count": 10,
     "metadata": {},
     "output_type": "execute_result"
    }
   ],
   "source": [
    "#Concat all dataframe which we created recently:\n",
    "Train_set = pd.concat([pd.DataFrame(data=ohe_set,columns=ohe_name_col), pd.DataFrame(data = std_set, columns = Continous_cols)], axis = 1)\n",
    "Train_set = Train_set.drop(columns = ['Unknown F', 'Unknown W', 'Unknown D'])\n",
    "Train_set.head()"
   ]
  },
  {
   "cell_type": "code",
   "execution_count": 11,
   "metadata": {},
   "outputs": [
    {
     "data": {
      "text/html": [
       "<div>\n",
       "<style scoped>\n",
       "    .dataframe tbody tr th:only-of-type {\n",
       "        vertical-align: middle;\n",
       "    }\n",
       "\n",
       "    .dataframe tbody tr th {\n",
       "        vertical-align: top;\n",
       "    }\n",
       "\n",
       "    .dataframe thead th {\n",
       "        text-align: right;\n",
       "    }\n",
       "</style>\n",
       "<table border=\"1\" class=\"dataframe\">\n",
       "  <thead>\n",
       "    <tr style=\"text-align: right;\">\n",
       "      <th></th>\n",
       "      <th>Price</th>\n",
       "    </tr>\n",
       "  </thead>\n",
       "  <tbody>\n",
       "    <tr>\n",
       "      <th>0</th>\n",
       "      <td>-0.033370</td>\n",
       "    </tr>\n",
       "    <tr>\n",
       "      <th>1</th>\n",
       "      <td>-0.041795</td>\n",
       "    </tr>\n",
       "    <tr>\n",
       "      <th>2</th>\n",
       "      <td>-0.035055</td>\n",
       "    </tr>\n",
       "    <tr>\n",
       "      <th>3</th>\n",
       "      <td>-0.018206</td>\n",
       "    </tr>\n",
       "    <tr>\n",
       "      <th>4</th>\n",
       "      <td>-0.040110</td>\n",
       "    </tr>\n",
       "  </tbody>\n",
       "</table>\n",
       "</div>"
      ],
      "text/plain": [
       "      Price\n",
       "0 -0.033370\n",
       "1 -0.041795\n",
       "2 -0.035055\n",
       "3 -0.018206\n",
       "4 -0.040110"
      ]
     },
     "execution_count": 11,
     "metadata": {},
     "output_type": "execute_result"
    }
   ],
   "source": [
    "Target_std = StandardScaler().fit(Dataset[['Price']])\n",
    "Target_set = pd.DataFrame(data = Target_std.transform(Dataset[['Price']]), columns = ['Price'])\n",
    "Target_set.head()"
   ]
  },
  {
   "cell_type": "code",
   "execution_count": 12,
   "metadata": {},
   "outputs": [],
   "source": [
    "#Removing Outlier Values\n",
    "for x in Target_set:\n",
    "    q75,q25 = np.percentile(Target_set.loc[:,x],[75,25])\n",
    "    intr_qr = q75-q25\n",
    " \n",
    "    max = q75+(1.5*intr_qr)\n",
    "    min = q25-(1.5*intr_qr)\n",
    " \n",
    "    Target_set.loc[Target_set[x] < min,x] = np.nan\n",
    "    Target_set.loc[Target_set[x] > max,x] = np.nan\n",
    "Target_set.isna().sum()\n",
    "Target_set.fillna(value = Target_set.mean(), inplace = True)\n",
    "\n",
    "for x in Train_set:\n",
    "    q75,q25 = np.percentile(Train_set.loc[:,x],[75,25])\n",
    "    intr_qr = q75-q25\n",
    " \n",
    "    max = q75+(1.5*intr_qr)\n",
    "    min = q25-(1.5*intr_qr)\n",
    " \n",
    "    Train_set.loc[Train_set[x] < min,x] = np.nan\n",
    "    Train_set.loc[Train_set[x] > max,x] = np.nan\n",
    "Train_set.isna().sum()\n",
    "Train_set.fillna(value = Train_set.mean(), inplace = True)"
   ]
  },
  {
   "cell_type": "markdown",
   "metadata": {},
   "source": [
    "# Predict"
   ]
  },
  {
   "cell_type": "code",
   "execution_count": 13,
   "metadata": {},
   "outputs": [],
   "source": [
    "#Include Libraries:\n",
    "from sklearn.linear_model import ridge_regression\n",
    "from sklearn.ensemble import RandomForestRegressor,GradientBoostingRegressor,VotingRegressor\n",
    "from sklearn.neighbors import KNeighborsRegressor\n",
    "from sklearn.tree import DecisionTreeRegressor\n",
    "from sklearn.svm import SVR\n",
    "import lightgbm as lgb\n",
    "from xgboost import XGBRegressor\n",
    "from sklearn.metrics import mean_squared_error\n",
    "from sklearn.model_selection import train_test_split"
   ]
  },
  {
   "cell_type": "code",
   "execution_count": 14,
   "metadata": {},
   "outputs": [],
   "source": [
    "x_train, x_test, y_train, y_test = train_test_split(Train_set, Target_set, random_state=43, shuffle=True,test_size = 0.2)"
   ]
  },
  {
   "cell_type": "code",
   "execution_count": 15,
   "metadata": {},
   "outputs": [],
   "source": [
    "def Get_Score(algo, name):\n",
    "    algo.fit(x_train,y_train)\n",
    "    y_pred = algo.predict(x_test)\n",
    "    x_ax = range(len(y_pred))\n",
    "    original_set = Target_std.inverse_transform(y_test)\n",
    "    predicted_set = Target_std.inverse_transform(y_pred)\n",
    "    plt.scatter(x_ax, original_set, s = 5, color=\"blue\", label=\"original\")\n",
    "    plt.plot(x_ax, predicted_set, color=\"red\", label=\"predicted\")\n",
    "    plt.legend()\n",
    "    plt.show()\n",
    "    score = mean_squared_error(y_test,y_pred)\n",
    "    print(name,'Mean squared error: ',score)\n",
    "    return predicted_set, original_set"
   ]
  },
  {
   "cell_type": "code",
   "execution_count": 16,
   "metadata": {},
   "outputs": [
    {
     "name": "stderr",
     "output_type": "stream",
     "text": [
      "/var/folders/2r/vgdn5c2j5fb567xb2nm5_qfm0000gn/T/ipykernel_17555/3880687256.py:2: DataConversionWarning: A column-vector y was passed when a 1d array was expected. Please change the shape of y to (n_samples,), for example using ravel().\n",
      "  algo.fit(x_train,y_train)\n"
     ]
    },
    {
     "data": {
      "image/png": "[encoded data removed]",
      "text/plain": [
       "<Figure size 432x288 with 1 Axes>"
      ]
     },
     "metadata": {
      "needs_background": "light"
     },
     "output_type": "display_data"
    },
    {
     "name": "stdout",
     "output_type": "stream",
     "text": [
      "RandomForest Mean squared error:  0.00015987645572096963\n"
     ]
    }
   ],
   "source": [
    "RF = RandomForestRegressor(n_estimators=1000,\n",
    "                            max_depth=7,\n",
    "                            max_features='auto',\n",
    "                            verbose=0,\n",
    "                            random_state=30,\n",
    "                            min_samples_leaf=6,\n",
    "                            oob_score=True,\n",
    "                            min_samples_split=4)\n",
    "predicted_set, original_set = Get_Score(RF, 'RandomForest')"
   ]
  },
  {
   "cell_type": "code",
   "execution_count": 17,
   "metadata": {},
   "outputs": [
    {
     "data": {
      "image/png": "[encoded data removed]",
      "text/plain": [
       "<Figure size 432x288 with 1 Axes>"
      ]
     },
     "metadata": {
      "needs_background": "light"
     },
     "output_type": "display_data"
    },
    {
     "name": "stdout",
     "output_type": "stream",
     "text": [
      "KNN Mean squared error:  0.0001602010897702849\n"
     ]
    }
   ],
   "source": [
    "knn = KNeighborsRegressor(n_neighbors=15)\n",
    "predicted_set, original_set = Get_Score(knn, 'KNN')"
   ]
  },
  {
   "cell_type": "markdown",
   "metadata": {},
   "source": [
    "# Result"
   ]
  },
  {
   "cell_type": "code",
   "execution_count": 18,
   "metadata": {},
   "outputs": [],
   "source": [
    "predicted_set = pd.DataFrame(data = np.ravel(predicted_set))\n",
    "original_set = pd.DataFrame(data = np.ravel(original_set))\n",
    "Result_set = pd.concat([predicted_set,original_set], axis = 1)\n",
    "Result_set.to_csv('Result.csv')"
   ]
  }
 ],
 "metadata": {
  "kernelspec": {
   "display_name": "Python 3.8.12 ('tfvenv')",
   "language": "python",
   "name": "python3"
  },
  "language_info": {
   "codemirror_mode": {
    "name": "ipython",
    "version": 3
   },
   "file_extension": ".py",
   "mimetype": "text/x-python",
   "name": "python",
   "nbconvert_exporter": "python",
   "pygments_lexer": "ipython3",
   "version": "3.8.12"
  },
  "orig_nbformat": 4,
  "vscode": {
   "interpreter": {
    "hash": "2b1e9e17499bdcd617ac999b9e0d15ff9db669911519856cfe61d394451d2847"
   }
  }
 },
 "nbformat": 4,
 "nbformat_minor": 2
}
