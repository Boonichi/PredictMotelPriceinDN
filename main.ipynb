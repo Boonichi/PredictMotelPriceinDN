{
 "cells": [
  {
   "cell_type": "code",
   "execution_count": 2,
   "metadata": {},
   "outputs": [],
   "source": [
    "#Import Libraries:\n",
    "import os\n",
    "from time import sleep\n",
    "import pandas as pd\n",
    "import numpy as np\n",
    "from bs4 import BeautifulSoup as bs\n",
    "import requests\n",
    "from selenium import webdriver\n",
    "from selenium.webdriver.common.keys import Keys\n",
    "from webdriver_manager.chrome import ChromeDriverManager\n",
    "from selenium.webdriver.common.by import By\n",
    "from selenium.webdriver.support.ui import WebDriverWait\n",
    "import pickle"
   ]
  },
  {
   "cell_type": "code",
   "execution_count": null,
   "metadata": {},
   "outputs": [],
   "source": [
    "#https://nha.chotot.com/thue-phong-tro-da-nang?page=1\n",
    "#https://phongtro123.com/tinh-thanh/da-nang"
   ]
  },
  {
   "cell_type": "code",
   "execution_count": null,
   "metadata": {},
   "outputs": [],
   "source": [
    "drive = webdriver.Chrome(ChromeDriverManager().install())\n",
    "drive.maximize_window()\n",
    "wait = WebDriverWait(drive, 10)"
   ]
  },
  {
   "cell_type": "code",
   "execution_count": null,
   "metadata": {},
   "outputs": [],
   "source": [
    "page = 1\n",
    "house_infos = list()\n",
    "while True:\n",
    "    try:\n",
    "        drive.get('https://nha.chotot.com/thue-phong-tro-da-nang?page=' + str(page))\n",
    "    except: break\n",
    "    houses = drive.find_elements(By.XPATH, value = '//a[@href and @class=\"AdItem_adItem__2O28x\"]')\n",
    "    if (houses == []) break;\n",
    "    for i in range(len(houses)):\n",
    "        houses[i] = houses[i].get_attribute('href')\n",
    "    for house in houses:\n",
    "        drive.get(house)\n",
    "        try:\n",
    "            house_location= drive.find_element(By.XPATH, value = '//span[@class=\"fz13\"]').text.replace('Xem bản đồ','')\n",
    "            house_price = drive.find_element(By.XPATH, value = '//span[@itemprop=\"price\"]').text\n",
    "            house_name = drive.find_element(By.XPATH, value = '//h1[@class=\"AdDecription_adTitle__2I0VE\" and @itemprop=\"name\"]').text\n",
    "            house_date = drive.find_element(By.XPATH, value = '//span[@class=\"AdImage_imageCaptionText__39oDK\"]').text\n",
    "            house_features = drive.find_elements(By.XPATH, value = '//div[@class=\"col-md-6 no-padding AdParam_adParamItem__1o-dd\" and @data-testid=\"param-item\"]')\n",
    "            house_info = {}\n",
    "            house_info['Location'] = house_location\n",
    "            house_info['Price'] = house_price\n",
    "            house_info['Name'] = house_name\n",
    "            house_info['Date'] = house_date\n",
    "            for index in range(len(house_features)):\n",
    "                if house_features[index].text[0] == 'T': house_info['Feature' + str(2)] = house_features[index].text\n",
    "                elif house_features[index].text[0] == 'S': house_info['Feature' + str(3)] = house_features[index].text\n",
    "                else: house_info['Feature' + str(index)] = house_features[index].text\n",
    "            house_infos.append(house_info)\n",
    "        except: continue\n",
    "    with open('save_page.txt','w') as file:\n",
    "        file.write(str(page))\n",
    "        file.close()\n",
    "    if (page % 10 == 0):\n",
    "        with open('save_house.pickle','wb') as handle:\n",
    "            pickle.dump(house_infos, handle, protocol=pickle.HIGHEST_PROTOCOL)\n",
    "    page+=1\n",
    "with open('save_house.pickle','wb') as handle:\n",
    "    pickle.dump(house_infos, handle, protocol=pickle.HIGHEST_PROTOCOL)\n",
    "drive.close()"
   ]
  },
  {
   "cell_type": "code",
   "execution_count": 4,
   "metadata": {},
   "outputs": [
    {
     "data": {
      "text/html": [
       "<div>\n",
       "<style scoped>\n",
       "    .dataframe tbody tr th:only-of-type {\n",
       "        vertical-align: middle;\n",
       "    }\n",
       "\n",
       "    .dataframe tbody tr th {\n",
       "        vertical-align: top;\n",
       "    }\n",
       "\n",
       "    .dataframe thead th {\n",
       "        text-align: right;\n",
       "    }\n",
       "</style>\n",
       "<table border=\"1\" class=\"dataframe\">\n",
       "  <thead>\n",
       "    <tr style=\"text-align: right;\">\n",
       "      <th></th>\n",
       "      <th>Location</th>\n",
       "      <th>Price</th>\n",
       "      <th>Area</th>\n",
       "      <th>Name</th>\n",
       "      <th>Date</th>\n",
       "      <th>Feature0</th>\n",
       "      <th>Feature1</th>\n",
       "      <th>Feature3</th>\n",
       "      <th>Feature2</th>\n",
       "    </tr>\n",
       "  </thead>\n",
       "  <tbody>\n",
       "    <tr>\n",
       "      <th>0</th>\n",
       "      <td>17, Cẩm Băc 8, Phường Hòa Thọ Đông, Quận Cẩm L...</td>\n",
       "      <td>1,6 triệu/tháng- 20 m2</td>\n",
       "      <td>- 20 m2</td>\n",
       "      <td>Phòng trọ Cẩm Lệ, rộng rãi, sạch đẹp an ninh!</td>\n",
       "      <td>Tin cá nhân đăng 2 tuần trước</td>\n",
       "      <td>Cho thuê</td>\n",
       "      <td>Diện tích: 20 m²</td>\n",
       "      <td>Số tiền cọc: 500.000 đ</td>\n",
       "      <td>NaN</td>\n",
       "    </tr>\n",
       "    <tr>\n",
       "      <th>1</th>\n",
       "      <td>132, Ba Tháng Hai, Phường Thuận Phước, Quận Hả...</td>\n",
       "      <td>1,1 triệu/tháng- 40 m2</td>\n",
       "      <td>- 40 m2</td>\n",
       "      <td>Trọ homestay-1.1tr-Điều hoà-Bao điện nước</td>\n",
       "      <td>Tin cá nhân đăng 3 tuần trước</td>\n",
       "      <td>Cho thuê</td>\n",
       "      <td>Diện tích: 40 m²</td>\n",
       "      <td>Số tiền cọc: 50.000 đ</td>\n",
       "      <td>Tình trạng nội thất: Nội thất đầy đủ</td>\n",
       "    </tr>\n",
       "    <tr>\n",
       "      <th>2</th>\n",
       "      <td>K1120/58 Trường Chinh, Phường Hòa Phát, Quận C...</td>\n",
       "      <td>1,5 triệu/tháng- 20 m2</td>\n",
       "      <td>- 20 m2</td>\n",
       "      <td>Phòng trọ Quận Cẩm Lệ 20m²</td>\n",
       "      <td>Tin cá nhân đăng 4 tháng trước</td>\n",
       "      <td>Cho thuê</td>\n",
       "      <td>Diện tích: 20 m²</td>\n",
       "      <td>Số tiền cọc: 500.000 đ</td>\n",
       "      <td>Tình trạng nội thất: Nhà trống</td>\n",
       "    </tr>\n",
       "    <tr>\n",
       "      <th>3</th>\n",
       "      <td>Trần Đăng, Phường Hòa Minh, Quận Liên Chiểu, Đ...</td>\n",
       "      <td>2,5 triệu/tháng- 25 m2</td>\n",
       "      <td>- 25 m2</td>\n",
       "      <td>Phòng trọ Cao cấp25m² Kinh Dương Vương,Liên Chiểu</td>\n",
       "      <td>Tin cá nhân đăng 1 giờ trước</td>\n",
       "      <td>Cho thuê</td>\n",
       "      <td>Diện tích: 25 m²</td>\n",
       "      <td>Số tiền cọc: 2.500.000 đ</td>\n",
       "      <td>Tình trạng nội thất: Nội thất đầy đủ</td>\n",
       "    </tr>\n",
       "    <tr>\n",
       "      <th>4</th>\n",
       "      <td>Cao Xuân Duc, Phường Thuận Phước, Quận Hải Châ...</td>\n",
       "      <td>1,2 triệu/tháng- 30 m2</td>\n",
       "      <td>- 30 m2</td>\n",
       "      <td>trọ homestay</td>\n",
       "      <td>Tin cá nhân đăng 2 giờ trước</td>\n",
       "      <td>Cho thuê</td>\n",
       "      <td>Diện tích: 30 m²</td>\n",
       "      <td>Số tiền cọc: 1.000.000 đ</td>\n",
       "      <td>Tình trạng nội thất: Nội thất đầy đủ</td>\n",
       "    </tr>\n",
       "  </tbody>\n",
       "</table>\n",
       "</div>"
      ],
      "text/plain": [
       "                                            Location                   Price  \\\n",
       "0  17, Cẩm Băc 8, Phường Hòa Thọ Đông, Quận Cẩm L...  1,6 triệu/tháng- 20 m2   \n",
       "1  132, Ba Tháng Hai, Phường Thuận Phước, Quận Hả...  1,1 triệu/tháng- 40 m2   \n",
       "2  K1120/58 Trường Chinh, Phường Hòa Phát, Quận C...  1,5 triệu/tháng- 20 m2   \n",
       "3  Trần Đăng, Phường Hòa Minh, Quận Liên Chiểu, Đ...  2,5 triệu/tháng- 25 m2   \n",
       "4  Cao Xuân Duc, Phường Thuận Phước, Quận Hải Châ...  1,2 triệu/tháng- 30 m2   \n",
       "\n",
       "      Area                                               Name  \\\n",
       "0  - 20 m2      Phòng trọ Cẩm Lệ, rộng rãi, sạch đẹp an ninh!   \n",
       "1  - 40 m2          Trọ homestay-1.1tr-Điều hoà-Bao điện nước   \n",
       "2  - 20 m2                         Phòng trọ Quận Cẩm Lệ 20m²   \n",
       "3  - 25 m2  Phòng trọ Cao cấp25m² Kinh Dương Vương,Liên Chiểu   \n",
       "4  - 30 m2                                       trọ homestay   \n",
       "\n",
       "                             Date  Feature0          Feature1  \\\n",
       "0   Tin cá nhân đăng 2 tuần trước  Cho thuê  Diện tích: 20 m²   \n",
       "1   Tin cá nhân đăng 3 tuần trước  Cho thuê  Diện tích: 40 m²   \n",
       "2  Tin cá nhân đăng 4 tháng trước  Cho thuê  Diện tích: 20 m²   \n",
       "3    Tin cá nhân đăng 1 giờ trước  Cho thuê  Diện tích: 25 m²   \n",
       "4    Tin cá nhân đăng 2 giờ trước  Cho thuê  Diện tích: 30 m²   \n",
       "\n",
       "                   Feature3                              Feature2  \n",
       "0    Số tiền cọc: 500.000 đ                                   NaN  \n",
       "1     Số tiền cọc: 50.000 đ  Tình trạng nội thất: Nội thất đầy đủ  \n",
       "2    Số tiền cọc: 500.000 đ        Tình trạng nội thất: Nhà trống  \n",
       "3  Số tiền cọc: 2.500.000 đ  Tình trạng nội thất: Nội thất đầy đủ  \n",
       "4  Số tiền cọc: 1.000.000 đ  Tình trạng nội thất: Nội thất đầy đủ  "
      ]
     },
     "execution_count": 4,
     "metadata": {},
     "output_type": "execute_result"
    }
   ],
   "source": [
    "with open(\"save_house.pickle\",\"rb\") as handle:\n",
    "    dataset = pickle.load(handle)\n",
    "dataset = pd.DataFrame(data = dataset)\n",
    "dataset.head()"
   ]
  },
  {
   "cell_type": "code",
   "execution_count": 5,
   "metadata": {},
   "outputs": [
    {
     "ename": "KeyError",
     "evalue": "\"['area'] not found in axis\"",
     "output_type": "error",
     "traceback": [
      "\u001b[0;31m---------------------------------------------------------------------------\u001b[0m",
      "\u001b[0;31mKeyError\u001b[0m                                  Traceback (most recent call last)",
      "\u001b[0;32m/var/folders/2r/vgdn5c2j5fb567xb2nm5_qfm0000gn/T/ipykernel_93253/1114598856.py\u001b[0m in \u001b[0;36m<module>\u001b[0;34m\u001b[0m\n\u001b[0;32m----> 1\u001b[0;31m \u001b[0mdataset\u001b[0m\u001b[0;34m.\u001b[0m\u001b[0mdrop\u001b[0m\u001b[0;34m(\u001b[0m\u001b[0mcolumns\u001b[0m \u001b[0;34m=\u001b[0m \u001b[0;34m'area'\u001b[0m\u001b[0;34m)\u001b[0m\u001b[0;34m\u001b[0m\u001b[0;34m\u001b[0m\u001b[0m\n\u001b[0m\u001b[1;32m      2\u001b[0m \u001b[0mdataset\u001b[0m\u001b[0;34m.\u001b[0m\u001b[0mhead\u001b[0m\u001b[0;34m(\u001b[0m\u001b[0;34m)\u001b[0m\u001b[0;34m\u001b[0m\u001b[0;34m\u001b[0m\u001b[0m\n",
      "\u001b[0;32m~/miniforge3/envs/tfvenv/lib/python3.8/site-packages/pandas/core/frame.py\u001b[0m in \u001b[0;36mdrop\u001b[0;34m(self, labels, axis, index, columns, level, inplace, errors)\u001b[0m\n\u001b[1;32m   4306\u001b[0m                 \u001b[0mweight\u001b[0m  \u001b[0;36m1.0\u001b[0m     \u001b[0;36m0.8\u001b[0m\u001b[0;34m\u001b[0m\u001b[0;34m\u001b[0m\u001b[0m\n\u001b[1;32m   4307\u001b[0m         \"\"\"\n\u001b[0;32m-> 4308\u001b[0;31m         return super().drop(\n\u001b[0m\u001b[1;32m   4309\u001b[0m             \u001b[0mlabels\u001b[0m\u001b[0;34m=\u001b[0m\u001b[0mlabels\u001b[0m\u001b[0;34m,\u001b[0m\u001b[0;34m\u001b[0m\u001b[0;34m\u001b[0m\u001b[0m\n\u001b[1;32m   4310\u001b[0m             \u001b[0maxis\u001b[0m\u001b[0;34m=\u001b[0m\u001b[0maxis\u001b[0m\u001b[0;34m,\u001b[0m\u001b[0;34m\u001b[0m\u001b[0;34m\u001b[0m\u001b[0m\n",
      "\u001b[0;32m~/miniforge3/envs/tfvenv/lib/python3.8/site-packages/pandas/core/generic.py\u001b[0m in \u001b[0;36mdrop\u001b[0;34m(self, labels, axis, index, columns, level, inplace, errors)\u001b[0m\n\u001b[1;32m   4151\u001b[0m         \u001b[0;32mfor\u001b[0m \u001b[0maxis\u001b[0m\u001b[0;34m,\u001b[0m \u001b[0mlabels\u001b[0m \u001b[0;32min\u001b[0m \u001b[0maxes\u001b[0m\u001b[0;34m.\u001b[0m\u001b[0mitems\u001b[0m\u001b[0;34m(\u001b[0m\u001b[0;34m)\u001b[0m\u001b[0;34m:\u001b[0m\u001b[0;34m\u001b[0m\u001b[0;34m\u001b[0m\u001b[0m\n\u001b[1;32m   4152\u001b[0m             \u001b[0;32mif\u001b[0m \u001b[0mlabels\u001b[0m \u001b[0;32mis\u001b[0m \u001b[0;32mnot\u001b[0m \u001b[0;32mNone\u001b[0m\u001b[0;34m:\u001b[0m\u001b[0;34m\u001b[0m\u001b[0;34m\u001b[0m\u001b[0m\n\u001b[0;32m-> 4153\u001b[0;31m                 \u001b[0mobj\u001b[0m \u001b[0;34m=\u001b[0m \u001b[0mobj\u001b[0m\u001b[0;34m.\u001b[0m\u001b[0m_drop_axis\u001b[0m\u001b[0;34m(\u001b[0m\u001b[0mlabels\u001b[0m\u001b[0;34m,\u001b[0m \u001b[0maxis\u001b[0m\u001b[0;34m,\u001b[0m \u001b[0mlevel\u001b[0m\u001b[0;34m=\u001b[0m\u001b[0mlevel\u001b[0m\u001b[0;34m,\u001b[0m \u001b[0merrors\u001b[0m\u001b[0;34m=\u001b[0m\u001b[0merrors\u001b[0m\u001b[0;34m)\u001b[0m\u001b[0;34m\u001b[0m\u001b[0;34m\u001b[0m\u001b[0m\n\u001b[0m\u001b[1;32m   4154\u001b[0m \u001b[0;34m\u001b[0m\u001b[0m\n\u001b[1;32m   4155\u001b[0m         \u001b[0;32mif\u001b[0m \u001b[0minplace\u001b[0m\u001b[0;34m:\u001b[0m\u001b[0;34m\u001b[0m\u001b[0;34m\u001b[0m\u001b[0m\n",
      "\u001b[0;32m~/miniforge3/envs/tfvenv/lib/python3.8/site-packages/pandas/core/generic.py\u001b[0m in \u001b[0;36m_drop_axis\u001b[0;34m(self, labels, axis, level, errors)\u001b[0m\n\u001b[1;32m   4186\u001b[0m                 \u001b[0mnew_axis\u001b[0m \u001b[0;34m=\u001b[0m \u001b[0maxis\u001b[0m\u001b[0;34m.\u001b[0m\u001b[0mdrop\u001b[0m\u001b[0;34m(\u001b[0m\u001b[0mlabels\u001b[0m\u001b[0;34m,\u001b[0m \u001b[0mlevel\u001b[0m\u001b[0;34m=\u001b[0m\u001b[0mlevel\u001b[0m\u001b[0;34m,\u001b[0m \u001b[0merrors\u001b[0m\u001b[0;34m=\u001b[0m\u001b[0merrors\u001b[0m\u001b[0;34m)\u001b[0m\u001b[0;34m\u001b[0m\u001b[0;34m\u001b[0m\u001b[0m\n\u001b[1;32m   4187\u001b[0m             \u001b[0;32melse\u001b[0m\u001b[0;34m:\u001b[0m\u001b[0;34m\u001b[0m\u001b[0;34m\u001b[0m\u001b[0m\n\u001b[0;32m-> 4188\u001b[0;31m                 \u001b[0mnew_axis\u001b[0m \u001b[0;34m=\u001b[0m \u001b[0maxis\u001b[0m\u001b[0;34m.\u001b[0m\u001b[0mdrop\u001b[0m\u001b[0;34m(\u001b[0m\u001b[0mlabels\u001b[0m\u001b[0;34m,\u001b[0m \u001b[0merrors\u001b[0m\u001b[0;34m=\u001b[0m\u001b[0merrors\u001b[0m\u001b[0;34m)\u001b[0m\u001b[0;34m\u001b[0m\u001b[0;34m\u001b[0m\u001b[0m\n\u001b[0m\u001b[1;32m   4189\u001b[0m             \u001b[0mresult\u001b[0m \u001b[0;34m=\u001b[0m \u001b[0mself\u001b[0m\u001b[0;34m.\u001b[0m\u001b[0mreindex\u001b[0m\u001b[0;34m(\u001b[0m\u001b[0;34m**\u001b[0m\u001b[0;34m{\u001b[0m\u001b[0maxis_name\u001b[0m\u001b[0;34m:\u001b[0m \u001b[0mnew_axis\u001b[0m\u001b[0;34m}\u001b[0m\u001b[0;34m)\u001b[0m\u001b[0;34m\u001b[0m\u001b[0;34m\u001b[0m\u001b[0m\n\u001b[1;32m   4190\u001b[0m \u001b[0;34m\u001b[0m\u001b[0m\n",
      "\u001b[0;32m~/miniforge3/envs/tfvenv/lib/python3.8/site-packages/pandas/core/indexes/base.py\u001b[0m in \u001b[0;36mdrop\u001b[0;34m(self, labels, errors)\u001b[0m\n\u001b[1;32m   5589\u001b[0m         \u001b[0;32mif\u001b[0m \u001b[0mmask\u001b[0m\u001b[0;34m.\u001b[0m\u001b[0many\u001b[0m\u001b[0;34m(\u001b[0m\u001b[0;34m)\u001b[0m\u001b[0;34m:\u001b[0m\u001b[0;34m\u001b[0m\u001b[0;34m\u001b[0m\u001b[0m\n\u001b[1;32m   5590\u001b[0m             \u001b[0;32mif\u001b[0m \u001b[0merrors\u001b[0m \u001b[0;34m!=\u001b[0m \u001b[0;34m\"ignore\"\u001b[0m\u001b[0;34m:\u001b[0m\u001b[0;34m\u001b[0m\u001b[0;34m\u001b[0m\u001b[0m\n\u001b[0;32m-> 5591\u001b[0;31m                 \u001b[0;32mraise\u001b[0m \u001b[0mKeyError\u001b[0m\u001b[0;34m(\u001b[0m\u001b[0;34mf\"{labels[mask]} not found in axis\"\u001b[0m\u001b[0;34m)\u001b[0m\u001b[0;34m\u001b[0m\u001b[0;34m\u001b[0m\u001b[0m\n\u001b[0m\u001b[1;32m   5592\u001b[0m             \u001b[0mindexer\u001b[0m \u001b[0;34m=\u001b[0m \u001b[0mindexer\u001b[0m\u001b[0;34m[\u001b[0m\u001b[0;34m~\u001b[0m\u001b[0mmask\u001b[0m\u001b[0;34m]\u001b[0m\u001b[0;34m\u001b[0m\u001b[0;34m\u001b[0m\u001b[0m\n\u001b[1;32m   5593\u001b[0m         \u001b[0;32mreturn\u001b[0m \u001b[0mself\u001b[0m\u001b[0;34m.\u001b[0m\u001b[0mdelete\u001b[0m\u001b[0;34m(\u001b[0m\u001b[0mindexer\u001b[0m\u001b[0;34m)\u001b[0m\u001b[0;34m\u001b[0m\u001b[0;34m\u001b[0m\u001b[0m\n",
      "\u001b[0;31mKeyError\u001b[0m: \"['area'] not found in axis\""
     ]
    }
   ],
   "source": [
    "dataset.drop(columns = 'area', axis = 1)\n",
    "dataset.head()"
   ]
  },
  {
   "cell_type": "code",
   "execution_count": null,
   "metadata": {},
   "outputs": [],
   "source": [
    "dataset = pd.DataFrame(data = house_infos)\n",
    "dataset.head()"
   ]
  },
  {
   "cell_type": "code",
   "execution_count": null,
   "metadata": {},
   "outputs": [],
   "source": [
    "dataset.to_csv('raw_data.csv')"
   ]
  }
 ],
 "metadata": {
  "interpreter": {
   "hash": "2b1e9e17499bdcd617ac999b9e0d15ff9db669911519856cfe61d394451d2847"
  },
  "kernelspec": {
   "display_name": "Python 3.8.12 ('tfvenv')",
   "language": "python",
   "name": "python3"
  },
  "language_info": {
   "codemirror_mode": {
    "name": "ipython",
    "version": 3
   },
   "file_extension": ".py",
   "mimetype": "text/x-python",
   "name": "python",
   "nbconvert_exporter": "python",
   "pygments_lexer": "ipython3",
   "version": "3.8.12"
  },
  "orig_nbformat": 4
 },
 "nbformat": 4,
 "nbformat_minor": 2
}
